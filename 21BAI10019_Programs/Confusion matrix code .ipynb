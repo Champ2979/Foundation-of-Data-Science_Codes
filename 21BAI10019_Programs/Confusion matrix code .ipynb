{
 "cells": [
  {
   "cell_type": "markdown",
   "id": "4a86b75b",
   "metadata": {},
   "source": [
    "## NAME: PRANAV PRATYUSH\n",
    "## REG NO: 21BAI10019"
   ]
  },
  {
   "cell_type": "code",
   "execution_count": 2,
   "id": "7aa5c0a1",
   "metadata": {},
   "outputs": [
    {
     "name": "stdout",
     "output_type": "stream",
     "text": [
      "Confusion Matrix:\n",
      "[[296   1   0   2]\n",
      " [  1  97   0   0]\n",
      " [  0   0  15   0]\n",
      " [  0   0   0  20]]\n",
      "Overall Accuracy: 0.9907407407407407\n",
      "Sensitivity (Recall) for each class: [0.98996656 0.98979592 1.         1.        ]\n",
      "Precision for each class: [0.996633   0.98979592 1.         0.90909091]\n",
      "F1 Score for each class: [0.99328859 0.98979592 1.         0.95238095]\n"
     ]
    }
   ],
   "source": [
    "import numpy as np\n",
    "\n",
    "#confusion matrix\n",
    "conf_matrix = np.array([[296, 1, 0, 2],\n",
    "                       [1, 97, 0, 0],\n",
    "                       [0, 0, 15, 0],\n",
    "                       [0, 0, 0, 20]])\n",
    "\n",
    "def calculate_metrics(conf_matrix):\n",
    "    \n",
    "    overall_accuracy = np.trace(conf_matrix) / np.sum(conf_matrix)\n",
    "    sensitivity = np.diagonal(conf_matrix) / np.sum(conf_matrix, axis=1)\n",
    "    precision = np.diagonal(conf_matrix) / np.sum(conf_matrix, axis=0)\n",
    "    f1_score = 2 * (precision * sensitivity) / (precision + sensitivity)\n",
    "\n",
    "    return overall_accuracy, sensitivity, precision, f1_score\n",
    "\n",
    "accuracy, sensitivity, precision, f1_score = calculate_metrics(conf_matrix)\n",
    "# Display confusion matrix\n",
    "print(\"Confusion Matrix:\")\n",
    "print(conf_matrix)\n",
    "\n",
    "# results\n",
    "print(\"Overall Accuracy:\", accuracy)\n",
    "print(\"Sensitivity (Recall) for each class:\", sensitivity)\n",
    "print(\"Precision for each class:\", precision)\n",
    "print(\"F1 Score for each class:\", f1_score)"
   ]
  }
 ],
 "metadata": {
  "kernelspec": {
   "display_name": "Python 3 (ipykernel)",
   "language": "python",
   "name": "python3"
  },
  "language_info": {
   "codemirror_mode": {
    "name": "ipython",
    "version": 3
   },
   "file_extension": ".py",
   "mimetype": "text/x-python",
   "name": "python",
   "nbconvert_exporter": "python",
   "pygments_lexer": "ipython3",
   "version": "3.10.1"
  }
 },
 "nbformat": 4,
 "nbformat_minor": 5
}
